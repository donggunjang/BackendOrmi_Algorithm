{
 "cells": [
  {
   "cell_type": "code",
   "execution_count": 2,
   "metadata": {},
   "outputs": [
    {
     "data": {
      "text/plain": [
       "' 2.50'"
      ]
     },
     "execution_count": 2,
     "metadata": {},
     "output_type": "execute_result"
    }
   ],
   "source": [
    "# 주관식 1번\n",
    "\n",
    "class Pish(object):\n",
    "    def __init__(self, weight):\n",
    "        self.weight = weight\n",
    "\n",
    "    def avg(self):\n",
    "        return f'{sum(self) / len(self): .2f}'\n",
    "\n",
    "pish1 = Pish(2.5)\n",
    "pish2 = Pish(3.1)\n",
    "pish3 = Pish(1.7)\n",
    "pish4 = Pish(2.8)\n",
    "pish5 = Pish(2.4)\n",
    "\n",
    "Pish.avg([pish1.weight, pish2.weight, pish3.weight, pish4.weight, pish5.weight] )\n",
    "\n",
    "\n"
   ]
  },
  {
   "cell_type": "code",
   "execution_count": 1,
   "metadata": {},
   "outputs": [
    {
     "name": "stdout",
     "output_type": "stream",
     "text": [
      "HWILP\n",
      "이오1여반\n",
      "복세편살\n"
     ]
    }
   ],
   "source": [
    "def get_first_letters(s):\n",
    "    li = s.split(' ')\n",
    "    anwser = ''\n",
    "    for i in li:\n",
    "        anwser += i[0][0]\n",
    "    return anwser\n",
    "print(get_first_letters(\"Hello World! I Love Python\"))\n",
    "print(get_first_letters(\"이스트소프트 오르미 1기 여러분 반가워요!\"))   \n",
    "print(get_first_letters(\"복잡한 세상 편하게 살자\")) "
   ]
  },
  {
   "cell_type": "code",
   "execution_count": 29,
   "metadata": {},
   "outputs": [
    {
     "name": "stdout",
     "output_type": "stream",
     "text": [
      "[4, 5]\n",
      "['ormi']\n",
      "[]\n"
     ]
    }
   ],
   "source": [
    "def common_elements(list1, list2):\n",
    "    li = []\n",
    "    li += set(list1) & set(list2)\n",
    "    return li\n",
    "\n",
    "print(common_elements([1, 2, 3, 4, 5], [4, 5, 6, 7, 8]))\n",
    "print(common_elements(['est', 'weniv', 'ormi'], ['licat', 'ormi']))\n",
    "print(common_elements([1, 2, 3], [4, 5, 6])  )"
   ]
  },
  {
   "cell_type": "code",
   "execution_count": 58,
   "metadata": {},
   "outputs": [
    {
     "ename": "TypeError",
     "evalue": "'int' object is not iterable",
     "output_type": "error",
     "traceback": [
      "\u001b[0;31m---------------------------------------------------------------------------\u001b[0m",
      "\u001b[0;31mTypeError\u001b[0m                                 Traceback (most recent call last)",
      "\u001b[0;32m/var/folders/tl/sjq349ps0yzfy1nbyls7bjr00000gn/T/ipykernel_6076/4094950078.py\u001b[0m in \u001b[0;36m<module>\u001b[0;34m\u001b[0m\n\u001b[1;32m      5\u001b[0m \u001b[0;34m\u001b[0m\u001b[0m\n\u001b[1;32m      6\u001b[0m \u001b[0;34m\u001b[0m\u001b[0m\n\u001b[0;32m----> 7\u001b[0;31m \u001b[0mprint\u001b[0m\u001b[0;34m(\u001b[0m\u001b[0mfind_longest_word\u001b[0m\u001b[0;34m(\u001b[0m\u001b[0;34m[\u001b[0m\u001b[0;34m'이스트소프트'\u001b[0m\u001b[0;34m,\u001b[0m \u001b[0;34m'이스트'\u001b[0m\u001b[0;34m,\u001b[0m \u001b[0;34m'이스트소'\u001b[0m\u001b[0;34m]\u001b[0m\u001b[0;34m)\u001b[0m \u001b[0;34m)\u001b[0m\u001b[0;34m\u001b[0m\u001b[0;34m\u001b[0m\u001b[0m\n\u001b[0m\u001b[1;32m      8\u001b[0m \u001b[0;31m# print(find_longest_word(['behind', 'hind']) )\u001b[0m\u001b[0;34m\u001b[0m\u001b[0;34m\u001b[0m\u001b[0;34m\u001b[0m\u001b[0m\n\u001b[1;32m      9\u001b[0m \u001b[0;31m# print(find_longest_word(['오르미', '오르다', '오름']))\u001b[0m\u001b[0;34m\u001b[0m\u001b[0;34m\u001b[0m\u001b[0;34m\u001b[0m\u001b[0m\n",
      "\u001b[0;32m/var/folders/tl/sjq349ps0yzfy1nbyls7bjr00000gn/T/ipykernel_6076/4094950078.py\u001b[0m in \u001b[0;36mfind_longest_word\u001b[0;34m(list1)\u001b[0m\n\u001b[1;32m      1\u001b[0m \u001b[0;32mdef\u001b[0m \u001b[0mfind_longest_word\u001b[0m\u001b[0;34m(\u001b[0m\u001b[0mlist1\u001b[0m\u001b[0;34m)\u001b[0m\u001b[0;34m:\u001b[0m\u001b[0;34m\u001b[0m\u001b[0;34m\u001b[0m\u001b[0m\n\u001b[0;32m----> 2\u001b[0;31m     \u001b[0;32mfor\u001b[0m \u001b[0mi\u001b[0m \u001b[0;32min\u001b[0m \u001b[0mlen\u001b[0m\u001b[0;34m(\u001b[0m\u001b[0mlist1\u001b[0m\u001b[0;34m)\u001b[0m\u001b[0;34m:\u001b[0m\u001b[0;34m\u001b[0m\u001b[0;34m\u001b[0m\u001b[0m\n\u001b[0m\u001b[1;32m      3\u001b[0m         \u001b[0mprint\u001b[0m\u001b[0;34m(\u001b[0m\u001b[0;34m'hello'\u001b[0m\u001b[0;34m)\u001b[0m\u001b[0;34m\u001b[0m\u001b[0;34m\u001b[0m\u001b[0m\n\u001b[1;32m      4\u001b[0m \u001b[0;34m\u001b[0m\u001b[0m\n\u001b[1;32m      5\u001b[0m \u001b[0;34m\u001b[0m\u001b[0m\n",
      "\u001b[0;31mTypeError\u001b[0m: 'int' object is not iterable"
     ]
    }
   ],
   "source": [
    "def find_longest_word(list1):\n",
    "    pass\n",
    "\n",
    "\n",
    "print(find_longest_word(['이스트소프트', '이스트', '이스트소']) )\n",
    "print(find_longest_word(['behind', 'hind']) )\n",
    "print(find_longest_word(['오르미', '오르다', '오름']))"
   ]
  },
  {
   "cell_type": "code",
   "execution_count": 50,
   "metadata": {},
   "outputs": [
    {
     "data": {
      "text/plain": [
       "['이스트소프트', '이스트', '이스트소']"
      ]
     },
     "execution_count": 50,
     "metadata": {},
     "output_type": "execute_result"
    }
   ],
   "source": [
    "list1 = ['이스트소프트', '이스트', '이스트소']\n",
    "array = []\n",
    "array += [i for i in list1]\n"
   ]
  },
  {
   "cell_type": "code",
   "execution_count": null,
   "metadata": {},
   "outputs": [],
   "source": [
    "def length_of_lis(nums):\n",
    "    pass\n",
    "\n",
    "nums1 = [1, 2, 3, 4, 5]\n",
    "print(length_of_lis(nums1))\n",
    "\n",
    "nums2 = [5, 4, 3, 2, 1]\n",
    "print(length_of_lis(nums2))\n",
    "\n",
    "nums3 = [10, 9, 2, 5, 3, 7, 101, 18]\n",
    "print(length_of_lis(nums3))\n",
    "\n",
    "nums4 = [4, 5, 2, 3, 1, 2]\n",
    "print(length_of_lis(nums4))"
   ]
  },
  {
   "cell_type": "code",
   "execution_count": 60,
   "metadata": {},
   "outputs": [
    {
     "name": "stdout",
     "output_type": "stream",
     "text": [
      "1기\n"
     ]
    }
   ],
   "source": [
    "s = \"오르미1기최고!\"\n",
    "print(s[3:-3])"
   ]
  },
  {
   "cell_type": "code",
   "execution_count": null,
   "metadata": {},
   "outputs": [],
   "source": []
  }
 ],
 "metadata": {
  "kernelspec": {
   "display_name": "Python 3",
   "language": "python",
   "name": "python3"
  },
  "language_info": {
   "codemirror_mode": {
    "name": "ipython",
    "version": 3
   },
   "file_extension": ".py",
   "mimetype": "text/x-python",
   "name": "python",
   "nbconvert_exporter": "python",
   "pygments_lexer": "ipython3",
   "version": "3.7.8rc1"
  },
  "orig_nbformat": 4
 },
 "nbformat": 4,
 "nbformat_minor": 2
}
